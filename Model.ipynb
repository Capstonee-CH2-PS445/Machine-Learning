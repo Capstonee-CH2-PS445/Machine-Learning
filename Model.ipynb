{
  "nbformat": 4,
  "nbformat_minor": 0,
  "metadata": {
    "colab": {
      "provenance": []
    },
    "kernelspec": {
      "name": "python3",
      "display_name": "Python 3"
    },
    "language_info": {
      "name": "python"
    }
  },
  "cells": [
    {
      "cell_type": "markdown",
      "source": [
        "## Import Libraries"
      ],
      "metadata": {
        "id": "aXmPo174uTIz"
      }
    },
    {
      "cell_type": "code",
      "execution_count": 2,
      "metadata": {
        "id": "AJeKLyfirNNt"
      },
      "outputs": [],
      "source": [
        "import pandas as pd\n",
        "import numpy as np\n",
        "import tensorflow as tf\n",
        "from google.colab import files\n",
        "\n",
        "import warnings\n",
        "warnings.filterwarnings('ignore')"
      ]
    },
    {
      "cell_type": "markdown",
      "source": [
        "## Load Data"
      ],
      "metadata": {
        "id": "ONwktTrquYY5"
      }
    },
    {
      "cell_type": "code",
      "source": [
        "books = pd.read_csv(\"https://raw.githubusercontent.com/Capstonee-CH2-PS445/Machine-Learning/main/books_cleaned.csv\")\n",
        "ratings = pd.read_csv(\"https://raw.githubusercontent.com/Capstonee-CH2-PS445/Machine-Learning/main/ratings.csv\")"
      ],
      "metadata": {
        "id": "OrQmRkR5OA2F"
      },
      "execution_count": 3,
      "outputs": []
    },
    {
      "cell_type": "markdown",
      "source": [
        "## Split the Data\n",
        "80% training and 20% test data"
      ],
      "metadata": {
        "id": "14El3JiBuigD"
      }
    },
    {
      "cell_type": "code",
      "source": [
        "from sklearn.model_selection import train_test_split\n",
        "\n",
        "train, test = train_test_split(ratings, test_size=0.2, random_state=42)\n",
        "\n",
        "print(f\"Training data shape: {train.shape}\")\n",
        "print(f\"Test data shape: {test.shape}\")"
      ],
      "metadata": {
        "colab": {
          "base_uri": "https://localhost:8080/"
        },
        "id": "f9wgD_mgu3Np",
        "outputId": "538e9bcc-5484-42cf-c072-46ae2fb2f27c"
      },
      "execution_count": 4,
      "outputs": [
        {
          "output_type": "stream",
          "name": "stdout",
          "text": [
            "Training data shape: (785404, 3)\n",
            "Test data shape: (196352, 3)\n"
          ]
        }
      ]
    },
    {
      "cell_type": "code",
      "source": [
        "#nunique() will return the total number of unique items\n",
        "\n",
        "book_id = ratings.book_id.nunique()\n",
        "\n",
        "user_id = ratings.user_id.nunique()\n",
        "print('Total books: ' + str(book_id))\n",
        "print('Total users: ' + str(user_id))"
      ],
      "metadata": {
        "colab": {
          "base_uri": "https://localhost:8080/"
        },
        "id": "TJX64TPavOr3",
        "outputId": "c76c0cde-6adf-4af0-dc32-29e072fa9988"
      },
      "execution_count": 5,
      "outputs": [
        {
          "output_type": "stream",
          "name": "stdout",
          "text": [
            "Total books: 10000\n",
            "Total users: 53424\n"
          ]
        }
      ]
    },
    {
      "cell_type": "markdown",
      "source": [
        "# Build the Model"
      ],
      "metadata": {
        "id": "vCKzY759vRll"
      }
    },
    {
      "cell_type": "code",
      "source": [
        "from tensorflow.keras.layers import Dense, Flatten, Input, Embedding, Concatenate, Dropout\n",
        "from tensorflow.keras.callbacks import EarlyStopping\n",
        "from tensorflow.keras.optimizers import Adam"
      ],
      "metadata": {
        "id": "AEUxqr7dvVc3"
      },
      "execution_count": 6,
      "outputs": []
    },
    {
      "cell_type": "code",
      "source": [
        "#Embedding layer for books\n",
        "books_input = Input(shape=[1])#1st Input Layer\n",
        "embedding_layer_books = Embedding(book_id + 1,10)(books_input)#Embedding layer\n",
        "embedding_output_books = Flatten()(embedding_layer_books)#Embedding layer output\n",
        "\n",
        "#Embedding layer for users\n",
        "users_input = Input(shape=[1])#1st Input Layer\n",
        "embedding_layer_users = Embedding(user_id + 1,10)(users_input)#Embedding layer\n",
        "embedding_output_users = Flatten()(embedding_layer_users)#Embedding layer output"
      ],
      "metadata": {
        "id": "X0bBKoCivYmI"
      },
      "execution_count": 7,
      "outputs": []
    },
    {
      "cell_type": "code",
      "source": [
        "#Concatenation and Dense layer\n",
        "\n",
        "joining_layer = Concatenate()([embedding_output_books, embedding_output_users])\n",
        "hidden_layer_1 = Dense(128, activation='relu')(joining_layer)\n",
        "hidden_layer_1 = Dropout(0.5)(hidden_layer_1)\n",
        "\n",
        "output_layer = hidden_layer_2 = Dense(1)(hidden_layer_1)\n",
        "\n",
        "model = tf.keras.Model([books_input, users_input], output_layer)"
      ],
      "metadata": {
        "id": "WXGv0AwSvhon"
      },
      "execution_count": 8,
      "outputs": []
    },
    {
      "cell_type": "code",
      "source": [
        "#Model compilation\n",
        "\n",
        "optimizer = Adam(lr=0.001, epsilon = 1e-6, amsgrad=True) #epsilon = decay rate\n",
        "model.compile(optimizer = optimizer, loss = 'mean_squared_error')#Using mean squared error as loss function\n",
        "\n",
        "model.summary()"
      ],
      "metadata": {
        "colab": {
          "base_uri": "https://localhost:8080/"
        },
        "id": "h7Xh34Yfvs8f",
        "outputId": "d713982f-4d22-4bba-838a-a1345cb421e3"
      },
      "execution_count": 9,
      "outputs": [
        {
          "output_type": "stream",
          "name": "stderr",
          "text": [
            "WARNING:absl:`lr` is deprecated in Keras optimizer, please use `learning_rate` or use the legacy optimizer, e.g.,tf.keras.optimizers.legacy.Adam.\n"
          ]
        },
        {
          "output_type": "stream",
          "name": "stdout",
          "text": [
            "Model: \"model\"\n",
            "__________________________________________________________________________________________________\n",
            " Layer (type)                Output Shape                 Param #   Connected to                  \n",
            "==================================================================================================\n",
            " input_1 (InputLayer)        [(None, 1)]                  0         []                            \n",
            "                                                                                                  \n",
            " input_2 (InputLayer)        [(None, 1)]                  0         []                            \n",
            "                                                                                                  \n",
            " embedding (Embedding)       (None, 1, 10)                100010    ['input_1[0][0]']             \n",
            "                                                                                                  \n",
            " embedding_1 (Embedding)     (None, 1, 10)                534250    ['input_2[0][0]']             \n",
            "                                                                                                  \n",
            " flatten (Flatten)           (None, 10)                   0         ['embedding[0][0]']           \n",
            "                                                                                                  \n",
            " flatten_1 (Flatten)         (None, 10)                   0         ['embedding_1[0][0]']         \n",
            "                                                                                                  \n",
            " concatenate (Concatenate)   (None, 20)                   0         ['flatten[0][0]',             \n",
            "                                                                     'flatten_1[0][0]']           \n",
            "                                                                                                  \n",
            " dense (Dense)               (None, 128)                  2688      ['concatenate[0][0]']         \n",
            "                                                                                                  \n",
            " dropout (Dropout)           (None, 128)                  0         ['dense[0][0]']               \n",
            "                                                                                                  \n",
            " dense_1 (Dense)             (None, 1)                    129       ['dropout[0][0]']             \n",
            "                                                                                                  \n",
            "==================================================================================================\n",
            "Total params: 637077 (2.43 MB)\n",
            "Trainable params: 637077 (2.43 MB)\n",
            "Non-trainable params: 0 (0.00 Byte)\n",
            "__________________________________________________________________________________________________\n"
          ]
        }
      ]
    },
    {
      "cell_type": "code",
      "source": [
        "#Training model\n",
        "\n",
        "early_stopping = EarlyStopping(monitor = 'val_loss', patience = 2)\n",
        "\n",
        "model.fit(\n",
        "    [train.book_id, train.user_id], train.rating,\n",
        "    batch_size=64,\n",
        "    epochs=20,\n",
        "    verbose=1,\n",
        "    callbacks = [early_stopping],\n",
        "    validation_data=([test.book_id, test.user_id], test.rating))"
      ],
      "metadata": {
        "colab": {
          "base_uri": "https://localhost:8080/"
        },
        "id": "ZS51IKrDvxky",
        "outputId": "a7b264a6-236c-410c-eb92-3cbe971552f0"
      },
      "execution_count": 11,
      "outputs": [
        {
          "output_type": "stream",
          "name": "stdout",
          "text": [
            "Epoch 1/20\n",
            "12272/12272 [==============================] - 128s 10ms/step - loss: 0.8344 - val_loss: 0.7150\n",
            "Epoch 2/20\n",
            "12272/12272 [==============================] - 123s 10ms/step - loss: 0.7637 - val_loss: 0.7085\n",
            "Epoch 3/20\n",
            "12272/12272 [==============================] - 123s 10ms/step - loss: 0.7234 - val_loss: 0.7059\n",
            "Epoch 4/20\n",
            "12272/12272 [==============================] - 122s 10ms/step - loss: 0.6960 - val_loss: 0.7061\n",
            "Epoch 5/20\n",
            "12272/12272 [==============================] - 121s 10ms/step - loss: 0.6729 - val_loss: 0.7046\n",
            "Epoch 6/20\n",
            "12272/12272 [==============================] - 122s 10ms/step - loss: 0.6529 - val_loss: 0.7045\n",
            "Epoch 7/20\n",
            "12272/12272 [==============================] - 123s 10ms/step - loss: 0.6365 - val_loss: 0.7073\n",
            "Epoch 8/20\n",
            "12272/12272 [==============================] - 123s 10ms/step - loss: 0.6224 - val_loss: 0.7083\n"
          ]
        },
        {
          "output_type": "execute_result",
          "data": {
            "text/plain": [
              "<keras.src.callbacks.History at 0x7a8725c907f0>"
            ]
          },
          "metadata": {},
          "execution_count": 11
        }
      ]
    },
    {
      "cell_type": "code",
      "source": [
        "loss = pd.DataFrame(model.history.history)\n",
        "\n",
        "loss[['loss', 'val_loss']].plot()"
      ],
      "metadata": {
        "colab": {
          "base_uri": "https://localhost:8080/",
          "height": 448
        },
        "id": "uqUeeTStysse",
        "outputId": "12c8d313-51f7-4009-9b6e-098624e97b76"
      },
      "execution_count": 13,
      "outputs": [
        {
          "output_type": "execute_result",
          "data": {
            "text/plain": [
              "<Axes: >"
            ]
          },
          "metadata": {},
          "execution_count": 13
        },
        {
          "output_type": "display_data",
          "data": {
            "text/plain": [
              "<Figure size 640x480 with 1 Axes>"
            ],
            "image/png": "[encoded data removed]"
          },
          "metadata": {}
        }
      ]
    },
    {
      "cell_type": "code",
      "source": [
        "#Saving the model\n",
        "model.save('model.h5')\n",
        "files.download('model.h5')"
      ],
      "metadata": {
        "colab": {
          "base_uri": "https://localhost:8080/",
          "height": 34
        },
        "id": "ht9GgpzXy0Bv",
        "outputId": "d64862a8-b810-4684-ed4a-91ad11e4e58c"
      },
      "execution_count": 12,
      "outputs": [
        {
          "output_type": "display_data",
          "data": {
            "text/plain": [
              "<IPython.core.display.Javascript object>"
            ],
            "application/javascript": [
              "\n",
              "    async function download(id, filename, size) {\n",
              "      if (!google.colab.kernel.accessAllowed) {\n",
              "        return;\n",
              "      }\n",
              "      const div = document.createElement('div');\n",
              "      const label = document.createElement('label');\n",
              "      label.textContent = `Downloading \"${filename}\": `;\n",
              "      div.appendChild(label);\n",
              "      const progress = document.createElement('progress');\n",
              "      progress.max = size;\n",
              "      div.appendChild(progress);\n",
              "      document.body.appendChild(div);\n",
              "\n",
              "      const buffers = [];\n",
              "      let downloaded = 0;\n",
              "\n",
              "      const channel = await google.colab.kernel.comms.open(id);\n",
              "      // Send a message to notify the kernel that we're ready.\n",
              "      channel.send({})\n",
              "\n",
              "      for await (const message of channel.messages) {\n",
              "        // Send a message to notify the kernel that we're ready.\n",
              "        channel.send({})\n",
              "        if (message.buffers) {\n",
              "          for (const buffer of message.buffers) {\n",
              "            buffers.push(buffer);\n",
              "            downloaded += buffer.byteLength;\n",
              "            progress.value = downloaded;\n",
              "          }\n",
              "        }\n",
              "      }\n",
              "      const blob = new Blob(buffers, {type: 'application/binary'});\n",
              "      const a = document.createElement('a');\n",
              "      a.href = window.URL.createObjectURL(blob);\n",
              "      a.download = filename;\n",
              "      div.appendChild(a);\n",
              "      a.click();\n",
              "      div.remove();\n",
              "    }\n",
              "  "
            ]
          },
          "metadata": {}
        },
        {
          "output_type": "display_data",
          "data": {
            "text/plain": [
              "<IPython.core.display.Javascript object>"
            ],
            "application/javascript": [
              "download(\"download_0f7a86d6-1ff4-4c33-bc60-d4aa794fc9ff\", \"model.h5\", 10246184)"
            ]
          },
          "metadata": {}
        }
      ]
    }
  ]
}